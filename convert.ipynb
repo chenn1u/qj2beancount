{
 "cells": [
  {
   "cell_type": "code",
   "execution_count": null,
   "id": "cf5a267c-8405-4bc8-8acf-f6fb9b991514",
   "metadata": {},
   "outputs": [],
   "source": [
    "income = {\n",
    "    '工资': '', '奖金': '', \n",
    "    '收益': '', '公积金': '', \n",
    "    '医保': '', '套现': '', \n",
    "    '退税': '', '二手': '', \n",
    "    '平账': '', '其他': ''\n",
    "}"
   ]
  }
 ],
 "metadata": {
  "kernelspec": {
   "display_name": "Python 3 (ipykernel)",
   "language": "python",
   "name": "python3"
  },
  "language_info": {
   "codemirror_mode": {
    "name": "ipython",
    "version": 3
   },
   "file_extension": ".py",
   "mimetype": "text/x-python",
   "name": "python",
   "nbconvert_exporter": "python",
   "pygments_lexer": "ipython3",
   "version": "3.10.12"
  }
 },
 "nbformat": 4,
 "nbformat_minor": 5
}
